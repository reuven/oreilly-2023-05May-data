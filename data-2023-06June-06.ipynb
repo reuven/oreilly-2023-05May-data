{
 "cells": [
  {
   "cell_type": "markdown",
   "id": "ce1c096b",
   "metadata": {},
   "source": [
    "# Agenda, week 5: Visualization\n",
    "\n",
    "1. Q&A\n",
    "2. Plotting in Python and with data\n",
    "3. Line plots\n",
    "4. Bar plots\n",
    "5. Histograms\n",
    "6. Pie plots\n",
    "7. Scatter plots\n",
    "8. Box plots\n",
    "9. What's next?"
   ]
  },
  {
   "cell_type": "markdown",
   "id": "22dc70b5",
   "metadata": {},
   "source": [
    "# Plotting\n",
    "\n",
    "When we plot, we're doing two things:\n",
    "\n",
    "1. We're making our data more understandable to people who are new to it, and have to understand it,\n",
    "2. We're making our data more understandable to *ourselves*!\n",
    "\n",
    "How can I create plots?\n",
    "\n",
    "The best-known library for plotting in Python is known as Matplotlib. (You can learn more at https://matplotlib.org/.) It's very powerful, open source, has been around for a while... and is VERY HARD TO LEARN, in my opinion.\n",
    "\n",
    "Today, we are not going to be using Matplotlib... at least, not directly. Pandas has a plotting interface (i.e., it has methods and options) which are then translated into Matplotlib plots. Using Pandas, we can create plots with Matplotlib, but with a much simpler interface.\n",
    "\n",
    "There are some other libraries that are gaining traction, and also wrap themselves around Matplotlib. One of the best known is Seaborn. You can also look at Plotly, which is (I think) a combination of Matplotlib and JavaScript, for Web pages."
   ]
  },
  {
   "cell_type": "markdown",
   "id": "6b2c550e",
   "metadata": {},
   "source": [
    "# How can we plot with Pandas?"
   ]
  },
  {
   "cell_type": "code",
   "execution_count": 2,
   "id": "b56ecfab",
   "metadata": {},
   "outputs": [],
   "source": [
    "\n",
    "import pandas as pd\n",
    "from pandas import Series, DataFrame"
   ]
  },
  {
   "cell_type": "code",
   "execution_count": null,
   "id": "abab089e",
   "metadata": {},
   "outputs": [],
   "source": [
    "s = Series()"
   ]
  }
 ],
 "metadata": {
  "kernelspec": {
   "display_name": "Python 3 (ipykernel)",
   "language": "python",
   "name": "python3"
  },
  "language_info": {
   "codemirror_mode": {
    "name": "ipython",
    "version": 3
   },
   "file_extension": ".py",
   "mimetype": "text/x-python",
   "name": "python",
   "nbconvert_exporter": "python",
   "pygments_lexer": "ipython3",
   "version": "3.11.3"
  }
 },
 "nbformat": 4,
 "nbformat_minor": 5
}
