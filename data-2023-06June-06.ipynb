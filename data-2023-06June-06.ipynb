{
 "cells": [
  {
   "cell_type": "markdown",
   "id": "527b8d58",
   "metadata": {},
   "source": [
    "# Agenda, week 5: Visualization\n",
    "\n",
    "1. Q&A\n",
    "2. Plotting in Python and with data\n",
    "3. Line plots\n",
    "4. Bar plots\n",
    "5. Histograms\n",
    "6. Pie plots\n",
    "\n",
    "\n"
   ]
  },
  {
   "cell_type": "code",
   "execution_count": null,
   "id": "e8c7cde2",
   "metadata": {},
   "outputs": [],
   "source": []
  }
 ],
 "metadata": {
  "kernelspec": {
   "display_name": "Python 3 (ipykernel)",
   "language": "python",
   "name": "python3"
  },
  "language_info": {
   "codemirror_mode": {
    "name": "ipython",
    "version": 3
   },
   "file_extension": ".py",
   "mimetype": "text/x-python",
   "name": "python",
   "nbconvert_exporter": "python",
   "pygments_lexer": "ipython3",
   "version": "3.11.3"
  }
 },
 "nbformat": 4,
 "nbformat_minor": 5
}
