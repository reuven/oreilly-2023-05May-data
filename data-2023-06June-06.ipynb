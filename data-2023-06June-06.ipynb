{
 "cells": [
  {
   "cell_type": "markdown",
   "id": "54bb70c9",
   "metadata": {},
   "source": [
    "# Agenda, week 5: Visualization\n",
    "\n",
    "1. Q&A\n",
    "2. Plotting in Python and with data\n",
    "3. Line plots\n",
    "4. Bar plots\n",
    "5. Histograms\n",
    "6. Pie plots\n",
    "7. Scatter plots\n",
    "8. Box plots\n",
    "9. What's next?"
   ]
  },
  {
   "cell_type": "markdown",
   "id": "69b3c505",
   "metadata": {},
   "source": [
    "# Plotting\n",
    "\n",
    "When we plot, we're doing two things:\n",
    "\n",
    "1. We're making our data more understandable to people who are new to it, and have to understand it,\n",
    "2. We're making our data more understandable to *ourselves*!\n",
    "\n"
   ]
  }
 ],
 "metadata": {
  "kernelspec": {
   "display_name": "Python 3 (ipykernel)",
   "language": "python",
   "name": "python3"
  },
  "language_info": {
   "codemirror_mode": {
    "name": "ipython",
    "version": 3
   },
   "file_extension": ".py",
   "mimetype": "text/x-python",
   "name": "python",
   "nbconvert_exporter": "python",
   "pygments_lexer": "ipython3",
   "version": "3.11.3"
  }
 },
 "nbformat": 4,
 "nbformat_minor": 5
}
