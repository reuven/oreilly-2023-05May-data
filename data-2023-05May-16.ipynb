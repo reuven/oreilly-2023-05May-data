{
 "cells": [
  {
   "cell_type": "markdown",
   "id": "073dd783",
   "metadata": {},
   "source": [
    "# Agenda, week 2\n",
    "\n",
    "1. Q&A\n",
    "2. dtypes\n",
    "3. `NaN` (not a number)\n",
    "4. data frames (2D data structures)\n",
    "5. Adding and removing data in our data frames\n",
    "6. Useful methods and attributes\n",
    "7. Querying with boolean indexes\n",
    "8. Querying with `.loc`\n",
    "9. Read some CSV data from a file"
   ]
  },
  {
   "cell_type": "markdown",
   "id": "06fe7702",
   "metadata": {},
   "source": [
    "# dtypes\n",
    "\n"
   ]
  },
  {
   "cell_type": "code",
   "execution_count": 3,
   "id": "0083c1d2",
   "metadata": {},
   "outputs": [],
   "source": [
    "import numpy as np   # this is not strictly necessary, but very useful\n",
    "import pandas as pd  # this is necessary!\n",
    "\n",
    "from pandas import Series, DataFrame   # this is convenient"
   ]
  },
  {
   "cell_type": "code",
   "execution_count": 4,
   "id": "74769897",
   "metadata": {},
   "outputs": [
    {
     "data": {
      "text/plain": [
       "0    10\n",
       "1    20\n",
       "2    30\n",
       "3    40\n",
       "4    50\n",
       "dtype: int64"
      ]
     },
     "execution_count": 4,
     "metadata": {},
     "output_type": "execute_result"
    }
   ],
   "source": [
    "# let's create a series\n",
    "\n",
    "s = Series([10, 20, 30, 40, 50])\n",
    "\n",
    "s"
   ]
  },
  {
   "cell_type": "markdown",
   "id": "7401e652",
   "metadata": {},
   "source": [
    "# What's a dtype?\n",
    "\n",
    "Many people, when they're learning Python, wonder why we talk about \"lists\" rather than \"arrays.\" After all, aren't they the same?\n",
    "\n",
    "No: Lists are different from arrays in two different ways:\n",
    "\n",
    "- We can change their size (adding and removing items)\n",
    "- Each object in a list can be of a different type. In an array, they must all be of the same type.\n",
    "\n",
    "Fast forward to now, when we're working with NumPy and Pandas, and we're really dealing with arrays. That means we cannot change their size (although Pandas does allow for that, thanks to some magic) and all of the elements have to be of the same type.\n",
    "\n",
    "In the worlds of NumPy and Pandas, that type is known as the \"dtype,\" the data type.\n",
    "\n",
    "What options do we have for dtypes? These are (mostly) set by NumPy.\n",
    "\n",
    "Dtypes\n",
    "\n",
    "- Integers\n",
    "- "
   ]
  }
 ],
 "metadata": {
  "kernelspec": {
   "display_name": "Python 3 (ipykernel)",
   "language": "python",
   "name": "python3"
  },
  "language_info": {
   "codemirror_mode": {
    "name": "ipython",
    "version": 3
   },
   "file_extension": ".py",
   "mimetype": "text/x-python",
   "name": "python",
   "nbconvert_exporter": "python",
   "pygments_lexer": "ipython3",
   "version": "3.11.3"
  }
 },
 "nbformat": 4,
 "nbformat_minor": 5
}
