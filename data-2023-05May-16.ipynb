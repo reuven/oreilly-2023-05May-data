{
 "cells": [
  {
   "cell_type": "markdown",
   "id": "3f2a01e4",
   "metadata": {},
   "source": [
    "# Agenda, week 2\n",
    "\n",
    "1. Q&A\n",
    "2. dtypes\n",
    "3. `NaN` (not a number)\n",
    "4. data frames (2D data structures)\n",
    "5. Adding and removing data in our data frames\n",
    "6. Useful methods and attributes\n",
    "7. Querying with boolean indexes\n",
    "8. Querying with `.loc`\n",
    "9. Read some CSV data from a file"
   ]
  },
  {
   "cell_type": "markdown",
   "id": "65509252",
   "metadata": {},
   "source": [
    "# dtypes\n",
    "\n"
   ]
  },
  {
   "cell_type": "code",
   "execution_count": 3,
   "id": "f6cda88c",
   "metadata": {},
   "outputs": [],
   "source": [
    "import numpy as np   # this is not strictly necessary, but very useful\n",
    "import pandas as pd  # this is necessary!\n",
    "\n",
    "from pandas import Series, DataFrame   # this is convenient"
   ]
  },
  {
   "cell_type": "code",
   "execution_count": 4,
   "id": "8c4c18c2",
   "metadata": {},
   "outputs": [
    {
     "data": {
      "text/plain": [
       "0    10\n",
       "1    20\n",
       "2    30\n",
       "3    40\n",
       "4    50\n",
       "dtype: int64"
      ]
     },
     "execution_count": 4,
     "metadata": {},
     "output_type": "execute_result"
    }
   ],
   "source": [
    "# let's create a series\n",
    "\n",
    "s = Series([10, 20, 30, 40, 50])\n",
    "\n",
    "s"
   ]
  },
  {
   "cell_type": "markdown",
   "id": "5674a049",
   "metadata": {},
   "source": [
    "# What's a dtype?\n",
    "\n",
    "Many people, when they're learning Python, wonder why we talk about \"lists\" rather than \"arrays.\" After all, aren't they the same?\n",
    "\n",
    "No: Lists are different from arrays in two different ways:\n",
    "\n",
    "- We can change their size (adding and removing items)\n",
    "- Each object in a list can be of a different type. In an array, they must all be of the same type.\n",
    "\n",
    "Fast forward to now, when we're working with NumPy and Pandas, and we're really dealing with arrays. That means we cannot change their size (although Pandas does allow for that, thanks to some magic) and all of the elements have to be of the same type.\n",
    "\n",
    "In the worlds of NumPy and Pandas, that type is known as the \"dtype,\" the data type.\n",
    "\n",
    "What options do we have for dtypes? These are (mostly) set by NumPy.\n",
    "\n",
    "Dtypes\n",
    "\n",
    "- Integers\n",
    "    - `np.int8`\n",
    "    - `np.int16`\n",
    "    - `np.int32`\n",
    "    - `np.int64` -- the default!\n",
    "- Unsigned integers\n",
    "    - `np.uint8`\n",
    "    - `np.uint16`\n",
    "    - `np.uint32`\n",
    "    - `np.uint64`\n",
    "- Floats\n",
    "    - `np.float16`\n",
    "    - `np.float32`\n",
    "    - `np.float64` -- the default!\n",
    "    - `np.float128`\n",
    "    \n",
    "# What does this mean?\n",
    "\n",
    "If you don't specify a dtype when you create a series, Pandas will guess what you want/need:\n",
    "\n",
    "- If you have only integers, then it'll use `np.int64`\n",
    "- If you have any floating-point numbers, then it'll use `np.float64`\n",
    "- If you have strings or other funny Python objects, then it'll use `object` as its type"
   ]
  },
  {
   "cell_type": "code",
   "execution_count": 5,
   "id": "0dd7970f",
   "metadata": {},
   "outputs": [
    {
     "data": {
      "text/plain": [
       "dtype('int64')"
      ]
     },
     "execution_count": 5,
     "metadata": {},
     "output_type": "execute_result"
    }
   ],
   "source": [
    "# we can get the dtype of a series by retrieving the dtype attribute\n",
    "\n",
    "s.dtype"
   ]
  },
  {
   "cell_type": "markdown",
   "id": "5fdab19f",
   "metadata": {},
   "source": [
    "If you don't want to specify `np.int8`, then you can instead say `'int8'`, and it'll work the same way.\n",
    "\n",
    "You can also say `np.dtype('int64')`."
   ]
  },
  {
   "cell_type": "code",
   "execution_count": 8,
   "id": "e75347eb",
   "metadata": {},
   "outputs": [
    {
     "data": {
      "text/plain": [
       "0    10\n",
       "1    20\n",
       "2    30\n",
       "3    40\n",
       "4    50\n",
       "dtype: int64"
      ]
     },
     "execution_count": 8,
     "metadata": {},
     "output_type": "execute_result"
    }
   ],
   "source": [
    "s = Series([10, 20, 30, 40, 50])\n",
    "s"
   ]
  },
  {
   "cell_type": "code",
   "execution_count": 9,
   "id": "d47a1ba0",
   "metadata": {},
   "outputs": [
    {
     "data": {
      "text/plain": [
       "0    10\n",
       "1    20\n",
       "2    30\n",
       "3    40\n",
       "4    50\n",
       "dtype: int8"
      ]
     },
     "execution_count": 9,
     "metadata": {},
     "output_type": "execute_result"
    }
   ],
   "source": [
    "# how can we specify a different dtype?\n",
    "# when we create a series, we can pass the keyword argument dtype= along with a valid dtype.\n",
    "\n",
    "s = Series([10, 20, 30, 40, 50], dtype=np.int8)   # 8-bit numbers\n",
    "s"
   ]
  },
  {
   "cell_type": "code",
   "execution_count": 10,
   "id": "329978b3",
   "metadata": {},
   "outputs": [
    {
     "data": {
      "text/plain": [
       "0    -24\n",
       "1    -48\n",
       "2    -72\n",
       "3    -96\n",
       "4   -120\n",
       "dtype: int8"
      ]
     },
     "execution_count": 10,
     "metadata": {},
     "output_type": "execute_result"
    }
   ],
   "source": [
    "# let's multiply our series (s) by 100!\n",
    "\n",
    "# I can use broadcasting\n",
    "\n",
    "s * 100"
   ]
  },
  {
   "cell_type": "code",
   "execution_count": 11,
   "id": "fefd3528",
   "metadata": {},
   "outputs": [],
   "source": [
    "# what happened? 8 bits (signed) aren't enough to hold 1,000 let alone larger numbers.\n",
    "# so, sort of like a car odometer or an old-style videogame, the numbers roll over\n",
    "# this is very very bad -- you won't get a warning!\n",
    "\n"
   ]
  },
  {
   "cell_type": "markdown",
   "id": "9330d148",
   "metadata": {},
   "source": [
    "# This is why you need to worry\n",
    "\n",
    "If your dtype is too small, then if the numbers get too big, you'll lose data without any warning.\n",
    "\n",
    "So, why not just use larger dtypes? Because that can be a waste of memory.\n",
    "\n",
    "Imagine 1m 64-bit ints. That'll take up ... 64 MB.\n",
    "\n",
    "Imagine 1m 8-bit ints. That'll take up 8 MB.\n",
    "\n",
    "That might not seem like a lot nowadays.  But what if we have 1b rows?\n",
    "\n",
    "Then it's the difference between 64 GB and 8 GB.. and that's already serious.\n",
    "\n",
    "So you have to balance between a dtype that's not too small (and won't cause data loss) and not too big (and won't overwhelm your system).  This isn't always easy!"
   ]
  },
  {
   "cell_type": "code",
   "execution_count": 12,
   "id": "0f5c7ab8",
   "metadata": {},
   "outputs": [],
   "source": [
    "s1 = Series([10, 20, 30, 40, 50])\n",
    "s2 = Series([90, 91, 92.3, 94, 95])\n"
   ]
  },
  {
   "cell_type": "code",
   "execution_count": 13,
   "id": "bf56c06d",
   "metadata": {},
   "outputs": [
    {
     "data": {
      "text/plain": [
       "0    10\n",
       "1    20\n",
       "2    30\n",
       "3    40\n",
       "4    50\n",
       "dtype: int64"
      ]
     },
     "execution_count": 13,
     "metadata": {},
     "output_type": "execute_result"
    }
   ],
   "source": [
    "s1"
   ]
  },
  {
   "cell_type": "code",
   "execution_count": 14,
   "id": "ecb1b487",
   "metadata": {},
   "outputs": [
    {
     "data": {
      "text/plain": [
       "0    90.0\n",
       "1    91.0\n",
       "2    92.3\n",
       "3    94.0\n",
       "4    95.0\n",
       "dtype: float64"
      ]
     },
     "execution_count": 14,
     "metadata": {},
     "output_type": "execute_result"
    }
   ],
   "source": [
    "s2"
   ]
  },
  {
   "cell_type": "code",
   "execution_count": 15,
   "id": "8e533949",
   "metadata": {},
   "outputs": [
    {
     "data": {
      "text/plain": [
       "0    100.0\n",
       "1    111.0\n",
       "2    122.3\n",
       "3    134.0\n",
       "4    145.0\n",
       "dtype: float64"
      ]
     },
     "execution_count": 15,
     "metadata": {},
     "output_type": "execute_result"
    }
   ],
   "source": [
    "s1 + s2    # each of the operations will be int + float, which gives us back a float"
   ]
  },
  {
   "cell_type": "code",
   "execution_count": 16,
   "id": "6fba344d",
   "metadata": {},
   "outputs": [
    {
     "ename": "AttributeError",
     "evalue": "property 'dtype' of 'Series' object has no setter",
     "output_type": "error",
     "traceback": [
      "\u001b[0;31m---------------------------------------------------------------------------\u001b[0m",
      "\u001b[0;31mAttributeError\u001b[0m                            Traceback (most recent call last)",
      "File \u001b[0;32m/usr/local/lib/python3.11/site-packages/pandas/core/generic.py:6020\u001b[0m, in \u001b[0;36mNDFrame.__setattr__\u001b[0;34m(self, name, value)\u001b[0m\n\u001b[1;32m   6019\u001b[0m     \u001b[38;5;28;01melse\u001b[39;00m:\n\u001b[0;32m-> 6020\u001b[0m         \u001b[38;5;28;43mobject\u001b[39;49m\u001b[38;5;241;43m.\u001b[39;49m\u001b[38;5;21;43m__setattr__\u001b[39;49m\u001b[43m(\u001b[49m\u001b[38;5;28;43mself\u001b[39;49m\u001b[43m,\u001b[49m\u001b[43m \u001b[49m\u001b[43mname\u001b[49m\u001b[43m,\u001b[49m\u001b[43m \u001b[49m\u001b[43mvalue\u001b[49m\u001b[43m)\u001b[49m\n\u001b[1;32m   6021\u001b[0m \u001b[38;5;28;01mexcept\u001b[39;00m (\u001b[38;5;167;01mAttributeError\u001b[39;00m, \u001b[38;5;167;01mTypeError\u001b[39;00m):\n",
      "\u001b[0;31mAttributeError\u001b[0m: property 'dtype' of 'Series' object has no setter",
      "\nDuring handling of the above exception, another exception occurred:\n",
      "\u001b[0;31mAttributeError\u001b[0m                            Traceback (most recent call last)",
      "Cell \u001b[0;32mIn [16], line 8\u001b[0m\n\u001b[1;32m      1\u001b[0m \u001b[38;5;66;03m# how can I change the dtype of a series?\u001b[39;00m\n\u001b[1;32m      2\u001b[0m \u001b[38;5;66;03m# what does that even mean?\u001b[39;00m\n\u001b[1;32m      3\u001b[0m \n\u001b[0;32m   (...)\u001b[0m\n\u001b[1;32m      6\u001b[0m \n\u001b[1;32m      7\u001b[0m \u001b[38;5;66;03m# You cannot change the dtype of a series\u001b[39;00m\n\u001b[0;32m----> 8\u001b[0m \u001b[43ms\u001b[49m\u001b[38;5;241;43m.\u001b[39;49m\u001b[43mdtype\u001b[49m \u001b[38;5;241m=\u001b[39m np\u001b[38;5;241m.\u001b[39mfloat64\n",
      "File \u001b[0;32m/usr/local/lib/python3.11/site-packages/pandas/core/generic.py:6030\u001b[0m, in \u001b[0;36mNDFrame.__setattr__\u001b[0;34m(self, name, value)\u001b[0m\n\u001b[1;32m   6022\u001b[0m \u001b[38;5;28;01mif\u001b[39;00m \u001b[38;5;28misinstance\u001b[39m(\u001b[38;5;28mself\u001b[39m, ABCDataFrame) \u001b[38;5;129;01mand\u001b[39;00m (is_list_like(value)):\n\u001b[1;32m   6023\u001b[0m     warnings\u001b[38;5;241m.\u001b[39mwarn(\n\u001b[1;32m   6024\u001b[0m         \u001b[38;5;124m\"\u001b[39m\u001b[38;5;124mPandas doesn\u001b[39m\u001b[38;5;124m'\u001b[39m\u001b[38;5;124mt allow columns to be \u001b[39m\u001b[38;5;124m\"\u001b[39m\n\u001b[1;32m   6025\u001b[0m         \u001b[38;5;124m\"\u001b[39m\u001b[38;5;124mcreated via a new attribute name - see \u001b[39m\u001b[38;5;124m\"\u001b[39m\n\u001b[0;32m   (...)\u001b[0m\n\u001b[1;32m   6028\u001b[0m         stacklevel\u001b[38;5;241m=\u001b[39mfind_stack_level(),\n\u001b[1;32m   6029\u001b[0m     )\n\u001b[0;32m-> 6030\u001b[0m \u001b[38;5;28;43mobject\u001b[39;49m\u001b[38;5;241;43m.\u001b[39;49m\u001b[38;5;21;43m__setattr__\u001b[39;49m\u001b[43m(\u001b[49m\u001b[38;5;28;43mself\u001b[39;49m\u001b[43m,\u001b[49m\u001b[43m \u001b[49m\u001b[43mname\u001b[49m\u001b[43m,\u001b[49m\u001b[43m \u001b[49m\u001b[43mvalue\u001b[49m\u001b[43m)\u001b[49m\n",
      "\u001b[0;31mAttributeError\u001b[0m: property 'dtype' of 'Series' object has no setter"
     ]
    }
   ],
   "source": [
    "# how can I change the dtype of a series?\n",
    "# what does that even mean?\n",
    "\n",
    "# if I change the dtype from int to float, we won't lose any data\n",
    "# if I change the dtype from float to int, I might well lose data... what happens?\n",
    "\n",
    "# You cannot change the dtype of a series\n",
    "s.dtype = np.float64"
   ]
  },
  {
   "cell_type": "code",
   "execution_count": 17,
   "id": "eda8e03a",
   "metadata": {},
   "outputs": [
    {
     "data": {
      "text/plain": [
       "0    10\n",
       "1    20\n",
       "2    30\n",
       "3    40\n",
       "4    50\n",
       "dtype: int8"
      ]
     },
     "execution_count": 17,
     "metadata": {},
     "output_type": "execute_result"
    }
   ],
   "source": [
    "# we can create a new series, based on our existing series, with a different dtype\n",
    "# if we do this, by calling the \"astype\" method, the new series will have the new dtype\n",
    "# and each element will go through the appropriate transformation\n",
    "\n",
    "# floats turned to ints will be truncated, for example\n",
    "\n",
    "s"
   ]
  },
  {
   "cell_type": "code",
   "execution_count": 18,
   "id": "fa3f0614",
   "metadata": {},
   "outputs": [
    {
     "data": {
      "text/plain": [
       "0    10.0\n",
       "1    20.0\n",
       "2    30.0\n",
       "3    40.0\n",
       "4    50.0\n",
       "dtype: float64"
      ]
     },
     "execution_count": 18,
     "metadata": {},
     "output_type": "execute_result"
    }
   ],
   "source": [
    "s.astype(np.float64)   # new series, based on s"
   ]
  },
  {
   "cell_type": "code",
   "execution_count": 19,
   "id": "d44004a0",
   "metadata": {},
   "outputs": [
    {
     "data": {
      "text/plain": [
       "0       hello\n",
       "1         out\n",
       "2       there\n",
       "3          to\n",
       "4    everyone\n",
       "dtype: object"
      ]
     },
     "execution_count": 19,
     "metadata": {},
     "output_type": "execute_result"
    }
   ],
   "source": [
    "# what about textual data?\n",
    "\n",
    "s = Series('hello out there to everyone'.split())\n",
    "s"
   ]
  },
  {
   "cell_type": "code",
   "execution_count": 20,
   "id": "8bdf8ac3",
   "metadata": {},
   "outputs": [],
   "source": [
    "# we'll talk more about text strings in week 4. You should know that text strings have a dtype\n",
    "# of \"object\", because they're using regular Python strings, and referring to them there."
   ]
  },
  {
   "cell_type": "markdown",
   "id": "844db841",
   "metadata": {},
   "source": [
    "# Exercise: Mean from strings\n",
    "\n",
    "1. Create a list of strings, in which each string contains only digits\n",
    "2. Create a series based on that list.\n",
    "3. Transform the series such that you can calculate the mean of those numbers.\n",
    "\n",
    "Example:\n",
    "\n",
    "If my list is `[10, 20, 30]`, then I want to have series such that I can call `s.mean()` and get back 20.    "
   ]
  },
  {
   "cell_type": "code",
   "execution_count": 21,
   "id": "9d0b80ef",
   "metadata": {},
   "outputs": [
    {
     "data": {
      "text/plain": [
       "['11', '15', '23', '97', '65']"
      ]
     },
     "execution_count": 21,
     "metadata": {},
     "output_type": "execute_result"
    }
   ],
   "source": [
    "mylist = '11 15 23 97 65'.split()\n",
    "mylist"
   ]
  },
  {
   "cell_type": "code",
   "execution_count": 22,
   "id": "7a743fd5",
   "metadata": {},
   "outputs": [],
   "source": [
    "s = Series(mylist)"
   ]
  },
  {
   "cell_type": "code",
   "execution_count": 23,
   "id": "b06bae57",
   "metadata": {},
   "outputs": [
    {
     "data": {
      "text/plain": [
       "0    11\n",
       "1    15\n",
       "2    23\n",
       "3    97\n",
       "4    65\n",
       "dtype: object"
      ]
     },
     "execution_count": 23,
     "metadata": {},
     "output_type": "execute_result"
    }
   ],
   "source": [
    "s"
   ]
  },
  {
   "cell_type": "code",
   "execution_count": 24,
   "id": "20acb562",
   "metadata": {},
   "outputs": [
    {
     "data": {
      "text/plain": [
       "223047953.0"
      ]
     },
     "execution_count": 24,
     "metadata": {},
     "output_type": "execute_result"
    }
   ],
   "source": [
    "# what happens when I try to calculate the mean on them?\n",
    "s.mean()"
   ]
  },
  {
   "cell_type": "code",
   "execution_count": 25,
   "id": "d96c8cc6",
   "metadata": {},
   "outputs": [
    {
     "data": {
      "text/plain": [
       "'1115239765'"
      ]
     },
     "execution_count": 25,
     "metadata": {},
     "output_type": "execute_result"
    }
   ],
   "source": [
    "# basically, Pandas added together all of the *strings*\n",
    "s.sum()"
   ]
  },
  {
   "cell_type": "code",
   "execution_count": 26,
   "id": "3765742d",
   "metadata": {},
   "outputs": [
    {
     "data": {
      "text/plain": [
       "223047953.0"
      ]
     },
     "execution_count": 26,
     "metadata": {},
     "output_type": "execute_result"
    }
   ],
   "source": [
    "int(s.sum()) / 5"
   ]
  },
  {
   "cell_type": "code",
   "execution_count": 28,
   "id": "5772725d",
   "metadata": {},
   "outputs": [
    {
     "data": {
      "text/plain": [
       "42.2"
      ]
     },
     "execution_count": 28,
     "metadata": {},
     "output_type": "execute_result"
    }
   ],
   "source": [
    "# if we really want to get the mean of these numbers,\n",
    "# we'll need to transform our series into one of integers\n",
    "\n",
    "s.astype(np.int8).mean()"
   ]
  },
  {
   "cell_type": "code",
   "execution_count": 29,
   "id": "7c272af9",
   "metadata": {},
   "outputs": [
    {
     "name": "stderr",
     "output_type": "stream",
     "text": [
      "/usr/local/lib/python3.11/site-packages/numpy/core/numeric.py:2468: FutureWarning: elementwise comparison failed; returning scalar instead, but in the future will perform elementwise comparison\n",
      "  return bool(asarray(a1 == a2).all())\n"
     ]
    }
   ],
   "source": [
    "# another way to do this would be at series creation time\n",
    "\n",
    "s = Series(mylist, dtype=np.int8)"
   ]
  },
  {
   "cell_type": "code",
   "execution_count": 30,
   "id": "f9f7c39e",
   "metadata": {},
   "outputs": [
    {
     "data": {
      "text/plain": [
       "0    11\n",
       "1    15\n",
       "2    23\n",
       "3    97\n",
       "4    65\n",
       "dtype: int8"
      ]
     },
     "execution_count": 30,
     "metadata": {},
     "output_type": "execute_result"
    }
   ],
   "source": [
    "s"
   ]
  },
  {
   "cell_type": "code",
   "execution_count": 31,
   "id": "8867e231",
   "metadata": {},
   "outputs": [
    {
     "data": {
      "text/plain": [
       "0    10.5\n",
       "1    20.7\n",
       "2    30.8\n",
       "3    40.9\n",
       "dtype: float64"
      ]
     },
     "execution_count": 31,
     "metadata": {},
     "output_type": "execute_result"
    }
   ],
   "source": [
    "# what if I have floats, and I turn them into ints?\n",
    "\n",
    "s = Series([10.5, 20.7, 30.8, 40.9])\n",
    "s"
   ]
  },
  {
   "cell_type": "code",
   "execution_count": 32,
   "id": "a0b4e444",
   "metadata": {},
   "outputs": [
    {
     "data": {
      "text/plain": [
       "0    10\n",
       "1    20\n",
       "2    30\n",
       "3    40\n",
       "dtype: int64"
      ]
     },
     "execution_count": 32,
     "metadata": {},
     "output_type": "execute_result"
    }
   ],
   "source": [
    "s.astype(np.int64)  # what happens to our values? We'll just truncate the floats at the decimal point"
   ]
  },
  {
   "cell_type": "markdown",
   "id": "555f1c96",
   "metadata": {},
   "source": [
    "# `NaN`\n",
    "\n",
    "This is a weird and hard topic! \n",
    "\n",
    "Data is often dirty:\n",
    "- Computers fail\n",
    "- Sensors fail\n",
    "- Things are delayed\n",
    "- People are unreliable\n",
    "\n",
    "Often, we'll be missing data. Or the data will need to be thrown out. Or the like.\n",
    "\n",
    "How can we indicate that data is bad?\n",
    "\n",
    "Imagine a temperature sensor that tells us the current temperature. What should it send to us when there is no data, or it's offline? Could it send us 0? It could, but we might mistake that for a real number.\n",
    "\n",
    "What if it returns -999, which is clearly not a real temperature? Someone, someday will make the mistake of using that number, and we'll be in real trouble.\n",
    "\n",
    "So we need a value that is a number, but which we cannot mistake for a number. And that's what `NaN` is all about: It's short for \"not a number,\" but it really is a number!"
   ]
  },
  {
   "cell_type": "code",
   "execution_count": 33,
   "id": "e3d975d3",
   "metadata": {},
   "outputs": [
    {
     "data": {
      "text/plain": [
       "nan"
      ]
     },
     "execution_count": 33,
     "metadata": {},
     "output_type": "execute_result"
    }
   ],
   "source": [
    "np.nan  # little nan"
   ]
  },
  {
   "cell_type": "code",
   "execution_count": 34,
   "id": "a9c3faa7",
   "metadata": {},
   "outputs": [
    {
     "data": {
      "text/plain": [
       "nan"
      ]
     },
     "execution_count": 34,
     "metadata": {},
     "output_type": "execute_result"
    }
   ],
   "source": [
    "np.NaN   # big nan"
   ]
  },
  {
   "cell_type": "code",
   "execution_count": 35,
   "id": "a746b808",
   "metadata": {},
   "outputs": [
    {
     "data": {
      "text/plain": [
       "True"
      ]
     },
     "execution_count": 35,
     "metadata": {},
     "output_type": "execute_result"
    }
   ],
   "source": [
    "# these are exactly the same\n",
    "\n",
    "np.nan is np.NaN"
   ]
  },
  {
   "cell_type": "code",
   "execution_count": 40,
   "id": "65ac0961",
   "metadata": {},
   "outputs": [
    {
     "data": {
      "text/plain": [
       "float"
      ]
     },
     "execution_count": 40,
     "metadata": {},
     "output_type": "execute_result"
    }
   ],
   "source": [
    "type(np.nan)  # what kind of value is it?"
   ]
  },
  {
   "cell_type": "code",
   "execution_count": 41,
   "id": "b22bd464",
   "metadata": {},
   "outputs": [
    {
     "data": {
      "text/plain": [
       "False"
      ]
     },
     "execution_count": 41,
     "metadata": {},
     "output_type": "execute_result"
    }
   ],
   "source": [
    "np.nan == np.nan   # is nan's value equal to itself?"
   ]
  },
  {
   "cell_type": "markdown",
   "id": "7b367361",
   "metadata": {},
   "source": [
    "To summary:\n",
    "\n",
    "- `NaN` is a float\n",
    "- It isn't equal to itself\n",
    "- We use it where we must have a number, but we don't have a value"
   ]
  },
  {
   "cell_type": "code",
   "execution_count": 42,
   "id": "0e8d3a27",
   "metadata": {},
   "outputs": [
    {
     "data": {
      "text/plain": [
       "74.8"
      ]
     },
     "execution_count": 42,
     "metadata": {},
     "output_type": "execute_result"
    }
   ],
   "source": [
    "# we often use NaN to indicate that data is missing\n",
    "# for example, let's assume you have a school with 5 tests during the year, and \n",
    "# the student was only present for 4 tests.  We want to calculate the mean\n",
    "# score for a final grade.\n",
    "\n",
    "scores = Series([95, 90, 97, 92, 0])\n",
    "\n",
    "scores.mean()"
   ]
  },
  {
   "cell_type": "code",
   "execution_count": 43,
   "id": "9e3c99a4",
   "metadata": {},
   "outputs": [
    {
     "data": {
      "text/plain": [
       "93.5"
      ]
     },
     "execution_count": 43,
     "metadata": {},
     "output_type": "execute_result"
    }
   ],
   "source": [
    "# let's try this another way, with NaN\n",
    "\n",
    "scores = Series([95, 90, 97, 92, np.nan])   # use nan instead of 0\n",
    "\n",
    "scores.mean()  # in NumPy, any NaN in a calculation makes the result NaN"
   ]
  },
  {
   "cell_type": "code",
   "execution_count": 44,
   "id": "e7595471",
   "metadata": {},
   "outputs": [
    {
     "data": {
      "text/plain": [
       "nan"
      ]
     },
     "execution_count": 44,
     "metadata": {},
     "output_type": "execute_result"
    }
   ],
   "source": [
    "scores.mean(skipna=False)  # if you want to be a stickler, and not calculate if NaN is around"
   ]
  },
  {
   "cell_type": "markdown",
   "id": "0868aea9",
   "metadata": {},
   "source": [
    "While I could ignore `nan`, more often I want to actually do something with it, to get rid of it. What are the options?\n",
    "\n",
    "1. Remove `nan` entirely by running the `dropna` method\n",
    "2. Replace `nan` with another value"
   ]
  },
  {
   "cell_type": "code",
   "execution_count": 45,
   "id": "6ea6e8fd",
   "metadata": {},
   "outputs": [
    {
     "data": {
      "text/plain": [
       "0    95.0\n",
       "1    90.0\n",
       "2    97.0\n",
       "3    92.0\n",
       "4     NaN\n",
       "dtype: float64"
      ]
     },
     "execution_count": 45,
     "metadata": {},
     "output_type": "execute_result"
    }
   ],
   "source": [
    "scores"
   ]
  },
  {
   "cell_type": "code",
   "execution_count": 46,
   "id": "a5bdc4e8",
   "metadata": {},
   "outputs": [
    {
     "data": {
      "text/plain": [
       "0    95.0\n",
       "1    90.0\n",
       "2    97.0\n",
       "3    92.0\n",
       "dtype: float64"
      ]
     },
     "execution_count": 46,
     "metadata": {},
     "output_type": "execute_result"
    }
   ],
   "source": [
    "scores.dropna()  # this returns a new series, based on scores, without any NaN values"
   ]
  },
  {
   "cell_type": "code",
   "execution_count": 47,
   "id": "ef1fbd5d",
   "metadata": {},
   "outputs": [
    {
     "data": {
      "text/plain": [
       "0    95.0\n",
       "1    90.0\n",
       "2    97.0\n",
       "3    92.0\n",
       "4    93.5\n",
       "dtype: float64"
      ]
     },
     "execution_count": 47,
     "metadata": {},
     "output_type": "execute_result"
    }
   ],
   "source": [
    "# the other way to handle NaN is to replace it with another value\n",
    "# there are several schools of thought on this; one is to replace it with the mean of all other values\n",
    "\n",
    "scores.fillna(scores.mean())  # without-nan mean is 93.5"
   ]
  },
  {
   "cell_type": "code",
   "execution_count": 48,
   "id": "32e54ac6",
   "metadata": {},
   "outputs": [
    {
     "data": {
      "text/plain": [
       "93.5"
      ]
     },
     "execution_count": 48,
     "metadata": {},
     "output_type": "execute_result"
    }
   ],
   "source": [
    "scores.fillna(scores.mean()).mean()   # get mean of everything, including filled-in values"
   ]
  },
  {
   "cell_type": "code",
   "execution_count": 49,
   "id": "fd1aaf12",
   "metadata": {},
   "outputs": [],
   "source": [
    "# of course, the standard deviation, which measures how far values go from the mean,\n",
    "# will be affected - -because we'll now be closer to the mean for 25% of the values"
   ]
  },
  {
   "cell_type": "code",
   "execution_count": 54,
   "id": "d2568b81",
   "metadata": {},
   "outputs": [
    {
     "data": {
      "text/plain": [
       "True"
      ]
     },
     "execution_count": 54,
     "metadata": {},
     "output_type": "execute_result"
    }
   ],
   "source": [
    "# the way that we can look for a NaN value is with np.isnan\n",
    "np.isnan(scores.loc[4])"
   ]
  },
  {
   "cell_type": "code",
   "execution_count": 55,
   "id": "36010eb6",
   "metadata": {},
   "outputs": [],
   "source": [
    "np.isnan??"
   ]
  },
  {
   "cell_type": "code",
   "execution_count": 58,
   "id": "fcbf1a88",
   "metadata": {},
   "outputs": [
    {
     "data": {
      "text/plain": [
       "0    95.0\n",
       "1    90.0\n",
       "2    97.0\n",
       "3    92.0\n",
       "4    92.0\n",
       "dtype: float64"
      ]
     },
     "execution_count": 58,
     "metadata": {},
     "output_type": "execute_result"
    }
   ],
   "source": [
    "# pandas also provides some other functionality to deal with nan, such as \"interpolate\"\n",
    "# where it'll replace NaN with the average of the values next to it\n",
    "\n",
    "scores.interpolate()"
   ]
  },
  {
   "cell_type": "code",
   "execution_count": null,
   "id": "833ad9d7",
   "metadata": {},
   "outputs": [],
   "source": []
  }
 ],
 "metadata": {
  "kernelspec": {
   "display_name": "Python 3 (ipykernel)",
   "language": "python",
   "name": "python3"
  },
  "language_info": {
   "codemirror_mode": {
    "name": "ipython",
    "version": 3
   },
   "file_extension": ".py",
   "mimetype": "text/x-python",
   "name": "python",
   "nbconvert_exporter": "python",
   "pygments_lexer": "ipython3",
   "version": "3.11.3"
  }
 },
 "nbformat": 4,
 "nbformat_minor": 5
}
