{
 "cells": [
  {
   "cell_type": "markdown",
   "id": "fc1492c5",
   "metadata": {},
   "source": [
    "# Agenda, week 2\n",
    "\n",
    "1. Q&A\n",
    "2. dtypes\n",
    "3. `NaN` (not a number)\n",
    "4. data frames (2D data structures)\n",
    "5. Adding and removing data in our data frames\n",
    "6. Useful methods and attributes\n",
    "7. Querying with boolean indexes\n",
    "8. Querying with `.loc`\n",
    "9. Read some CSV data from a file"
   ]
  },
  {
   "cell_type": "markdown",
   "id": "265a265b",
   "metadata": {},
   "source": [
    "# dtypes\n",
    "\n"
   ]
  },
  {
   "cell_type": "code",
   "execution_count": 3,
   "id": "3df59e4b",
   "metadata": {},
   "outputs": [],
   "source": [
    "import numpy as np   # this is not strictly necessary, but very useful\n",
    "import pandas as pd  # this is necessary!\n",
    "\n",
    "from pandas import Series, DataFrame   # this is convenient"
   ]
  },
  {
   "cell_type": "code",
   "execution_count": 4,
   "id": "e9487ac5",
   "metadata": {},
   "outputs": [
    {
     "data": {
      "text/plain": [
       "0    10\n",
       "1    20\n",
       "2    30\n",
       "3    40\n",
       "4    50\n",
       "dtype: int64"
      ]
     },
     "execution_count": 4,
     "metadata": {},
     "output_type": "execute_result"
    }
   ],
   "source": [
    "# let's create a series\n",
    "\n",
    "s = Series([10, 20, 30, 40, 50])\n",
    "\n",
    "s"
   ]
  },
  {
   "cell_type": "markdown",
   "id": "8807d7ca",
   "metadata": {},
   "source": [
    "# What's a dtype"
   ]
  }
 ],
 "metadata": {
  "kernelspec": {
   "display_name": "Python 3 (ipykernel)",
   "language": "python",
   "name": "python3"
  },
  "language_info": {
   "codemirror_mode": {
    "name": "ipython",
    "version": 3
   },
   "file_extension": ".py",
   "mimetype": "text/x-python",
   "name": "python",
   "nbconvert_exporter": "python",
   "pygments_lexer": "ipython3",
   "version": "3.11.3"
  }
 },
 "nbformat": 4,
 "nbformat_minor": 5
}
