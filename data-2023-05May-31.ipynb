{
 "cells": [
  {
   "cell_type": "markdown",
   "id": "6707c3c6",
   "metadata": {},
   "source": [
    "# Agenda, day 4 — text and dates\n",
    " \n",
    "1. Q&A\n",
    "2. Textual data and Pandas\n",
    "3. Cleaning dirty textual data\n",
    "4. Statistics about text\n",
    "5. Useful string methods\n",
    "6. Time and date information\n",
    "    - `datetime` \n",
    "    - `timedelta`\n",
    "7. Calculating time deltas\n",
    "8. Time series (i.e., where we have time data as our index)\n",
    "9. Resampling"
   ]
  },
  {
   "cell_type": "code",
   "execution_count": 1,
   "id": "fb656a5d",
   "metadata": {},
   "outputs": [],
   "source": [
    "import pandas as pd\n",
    "from pandas import Series, DataFrame"
   ]
  },
  {
   "cell_type": "code",
   "execution_count": 2,
   "id": "017dcb0d",
   "metadata": {},
   "outputs": [
    {
     "data": {
      "text/plain": [
       "0         This\n",
       "1           is\n",
       "2            a\n",
       "3       sample\n",
       "4     sentence\n",
       "5          for\n",
       "6          use\n",
       "7           in\n",
       "8           my\n",
       "9       Pandas\n",
       "10      course\n",
       "dtype: object"
      ]
     },
     "execution_count": 2,
     "metadata": {},
     "output_type": "execute_result"
    }
   ],
   "source": [
    "# let's assume that I have a series containing some text\n",
    "\n",
    "s = Series('This is a sample sentence for use in my Pandas course'.split())\n",
    "s"
   ]
  },
  {
   "cell_type": "code",
   "execution_count": 3,
   "id": "9f2c502f",
   "metadata": {},
   "outputs": [
    {
     "name": "stdout",
     "output_type": "stream",
     "text": [
      "4\n",
      "2\n",
      "1\n",
      "6\n",
      "8\n",
      "3\n",
      "3\n",
      "2\n",
      "2\n",
      "6\n",
      "6\n"
     ]
    }
   ],
   "source": [
    "# how can I find out the length of each word in this series?\n",
    "\n",
    "# could we / should we use a \"for\" loop and run \"len\" on each word?\n",
    "\n",
    "# using a \"for\" loop in Pandas is almost always the wrong solution.\n",
    "\n",
    "for one_item in s:\n",
    "    print(len(one_item))"
   ]
  },
  {
   "cell_type": "code",
   "execution_count": null,
   "id": "61938792",
   "metadata": {},
   "outputs": [],
   "source": [
    "# what we want is a way to run \"len\" on each element\n",
    "# without a \"for\" loop\n",
    "\n"
   ]
  }
 ],
 "metadata": {
  "kernelspec": {
   "display_name": "Python 3 (ipykernel)",
   "language": "python",
   "name": "python3"
  },
  "language_info": {
   "codemirror_mode": {
    "name": "ipython",
    "version": 3
   },
   "file_extension": ".py",
   "mimetype": "text/x-python",
   "name": "python",
   "nbconvert_exporter": "python",
   "pygments_lexer": "ipython3",
   "version": "3.11.3"
  }
 },
 "nbformat": 4,
 "nbformat_minor": 5
}
