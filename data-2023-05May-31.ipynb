{
 "cells": [
  {
   "cell_type": "markdown",
   "id": "4212e246",
   "metadata": {},
   "source": [
    "# Agenda, day 4 — text and dates\n",
    " \n",
    "1. Q&A\n",
    "2. Textual data and Pandas\n",
    "3. Cleaning dirty textual data\n",
    "4. Statistics about text\n",
    "5. Useful string methods\n",
    "6. Time and date information\n",
    "    - `datetime` \n",
    "    - `timedelta`\n",
    "7. Calculating time deltas\n",
    "8. Time series (i.e., where we have time data as our index)\n",
    "9. Resampling"
   ]
  },
  {
   "cell_type": "code",
   "execution_count": 1,
   "id": "964dbdf1",
   "metadata": {},
   "outputs": [],
   "source": [
    "import pandas as pd\n",
    "from pandas import Series, DataFrame"
   ]
  },
  {
   "cell_type": "code",
   "execution_count": 2,
   "id": "fa604b46",
   "metadata": {},
   "outputs": [
    {
     "data": {
      "text/plain": [
       "0         This\n",
       "1           is\n",
       "2            a\n",
       "3       sample\n",
       "4     sentence\n",
       "5          for\n",
       "6          use\n",
       "7           in\n",
       "8           my\n",
       "9       Pandas\n",
       "10      course\n",
       "dtype: object"
      ]
     },
     "execution_count": 2,
     "metadata": {},
     "output_type": "execute_result"
    }
   ],
   "source": [
    "# let's assume that I have a series containing some text\n",
    "\n",
    "s = Series('This is a sample sentence for use in my Pandas course'.split())\n",
    "s"
   ]
  },
  {
   "cell_type": "code",
   "execution_count": 3,
   "id": "c2fe2a59",
   "metadata": {},
   "outputs": [
    {
     "name": "stdout",
     "output_type": "stream",
     "text": [
      "4\n",
      "2\n",
      "1\n",
      "6\n",
      "8\n",
      "3\n",
      "3\n",
      "2\n",
      "2\n",
      "6\n",
      "6\n"
     ]
    }
   ],
   "source": [
    "# how can I find out the length of each word in this series?\n",
    "\n",
    "# could we / should we use a \"for\" loop and run \"len\" on each word?\n",
    "\n",
    "# using a \"for\" loop in Pandas is almost always the wrong solution.\n",
    "\n",
    "for one_item in s:\n",
    "    print(len(one_item))"
   ]
  },
  {
   "cell_type": "code",
   "execution_count": 4,
   "id": "132eec96",
   "metadata": {},
   "outputs": [
    {
     "ename": "AttributeError",
     "evalue": "'Series' object has no attribute 'len'",
     "output_type": "error",
     "traceback": [
      "\u001b[0;31m---------------------------------------------------------------------------\u001b[0m",
      "\u001b[0;31mAttributeError\u001b[0m                            Traceback (most recent call last)",
      "Cell \u001b[0;32mIn [4], line 8\u001b[0m\n\u001b[1;32m      1\u001b[0m \u001b[38;5;66;03m# what we want is a way to run \"len\" on each element\u001b[39;00m\n\u001b[1;32m      2\u001b[0m \u001b[38;5;66;03m# without a \"for\" loop\u001b[39;00m\n\u001b[1;32m      3\u001b[0m \n\u001b[1;32m      4\u001b[0m \u001b[38;5;66;03m# Pandas provides us with a way to broadcast our string methods/functionality across elements of a series\u001b[39;00m\n\u001b[1;32m      5\u001b[0m \n\u001b[1;32m      6\u001b[0m \u001b[38;5;66;03m# I'd want to say\u001b[39;00m\n\u001b[0;32m----> 8\u001b[0m \u001b[43ms\u001b[49m\u001b[38;5;241;43m.\u001b[39;49m\u001b[43mlen\u001b[49m()\n",
      "File \u001b[0;32m/usr/local/lib/python3.11/site-packages/pandas/core/generic.py:5989\u001b[0m, in \u001b[0;36mNDFrame.__getattr__\u001b[0;34m(self, name)\u001b[0m\n\u001b[1;32m   5982\u001b[0m \u001b[38;5;28;01mif\u001b[39;00m (\n\u001b[1;32m   5983\u001b[0m     name \u001b[38;5;129;01mnot\u001b[39;00m \u001b[38;5;129;01min\u001b[39;00m \u001b[38;5;28mself\u001b[39m\u001b[38;5;241m.\u001b[39m_internal_names_set\n\u001b[1;32m   5984\u001b[0m     \u001b[38;5;129;01mand\u001b[39;00m name \u001b[38;5;129;01mnot\u001b[39;00m \u001b[38;5;129;01min\u001b[39;00m \u001b[38;5;28mself\u001b[39m\u001b[38;5;241m.\u001b[39m_metadata\n\u001b[1;32m   5985\u001b[0m     \u001b[38;5;129;01mand\u001b[39;00m name \u001b[38;5;129;01mnot\u001b[39;00m \u001b[38;5;129;01min\u001b[39;00m \u001b[38;5;28mself\u001b[39m\u001b[38;5;241m.\u001b[39m_accessors\n\u001b[1;32m   5986\u001b[0m     \u001b[38;5;129;01mand\u001b[39;00m \u001b[38;5;28mself\u001b[39m\u001b[38;5;241m.\u001b[39m_info_axis\u001b[38;5;241m.\u001b[39m_can_hold_identifiers_and_holds_name(name)\n\u001b[1;32m   5987\u001b[0m ):\n\u001b[1;32m   5988\u001b[0m     \u001b[38;5;28;01mreturn\u001b[39;00m \u001b[38;5;28mself\u001b[39m[name]\n\u001b[0;32m-> 5989\u001b[0m \u001b[38;5;28;01mreturn\u001b[39;00m \u001b[38;5;28;43mobject\u001b[39;49m\u001b[38;5;241;43m.\u001b[39;49m\u001b[38;5;21;43m__getattribute__\u001b[39;49m\u001b[43m(\u001b[49m\u001b[38;5;28;43mself\u001b[39;49m\u001b[43m,\u001b[49m\u001b[43m \u001b[49m\u001b[43mname\u001b[49m\u001b[43m)\u001b[49m\n",
      "\u001b[0;31mAttributeError\u001b[0m: 'Series' object has no attribute 'len'"
     ]
    }
   ],
   "source": [
    "# what we want is a way to run \"len\" on each element\n",
    "# without a \"for\" loop\n",
    "\n",
    "# Pandas provides us with a way to broadcast our string methods/functionality across elements of a series\n",
    "\n",
    "# I'd want to say\n",
    "\n",
    "s.len()"
   ]
  },
  {
   "cell_type": "code",
   "execution_count": 6,
   "id": "3e49aea7",
   "metadata": {},
   "outputs": [
    {
     "data": {
      "text/plain": [
       "0     4\n",
       "1     2\n",
       "2     1\n",
       "3     6\n",
       "4     8\n",
       "5     3\n",
       "6     3\n",
       "7     2\n",
       "8     2\n",
       "9     6\n",
       "10    6\n",
       "dtype: int64"
      ]
     },
     "execution_count": 6,
     "metadata": {},
     "output_type": "execute_result"
    }
   ],
   "source": [
    "# we can use the \"str\" accessor object on every series\n",
    "# in other words, we can say s.str.METHOD_NAME and there are many, many methods defined for s.str\n",
    "\n",
    "# we get back a new series, one whose index is identical to s!\n",
    "\n",
    "s.str.len() "
   ]
  },
  {
   "cell_type": "code",
   "execution_count": 7,
   "id": "6f9c198c",
   "metadata": {},
   "outputs": [
    {
     "data": {
      "text/plain": [
       "3.909090909090909"
      ]
     },
     "execution_count": 7,
     "metadata": {},
     "output_type": "execute_result"
    }
   ],
   "source": [
    "# what if I want to find all of the words that are longer than average in the series?\n",
    "\n",
    "s.str.len().mean()   # find the mean length of words in s"
   ]
  },
  {
   "cell_type": "code",
   "execution_count": 8,
   "id": "53ac7d01",
   "metadata": {},
   "outputs": [
    {
     "data": {
      "text/plain": [
       "0      True\n",
       "1     False\n",
       "2     False\n",
       "3      True\n",
       "4      True\n",
       "5     False\n",
       "6     False\n",
       "7     False\n",
       "8     False\n",
       "9      True\n",
       "10     True\n",
       "dtype: bool"
      ]
     },
     "execution_count": 8,
     "metadata": {},
     "output_type": "execute_result"
    }
   ],
   "source": [
    "# what words are longer than that?\n",
    "\n",
    "# series > float -- we run a broadcast, and get a boolean series in return\n",
    "s.str.len() > s.str.len().mean()"
   ]
  },
  {
   "cell_type": "code",
   "execution_count": 9,
   "id": "ac5f9780",
   "metadata": {},
   "outputs": [
    {
     "data": {
      "text/plain": [
       "0         This\n",
       "3       sample\n",
       "4     sentence\n",
       "9       Pandas\n",
       "10      course\n",
       "dtype: object"
      ]
     },
     "execution_count": 9,
     "metadata": {},
     "output_type": "execute_result"
    }
   ],
   "source": [
    "# now, let's retrieve the elements of s where the word length > mean\n",
    "s.loc[s.str.len() > s.str.len().mean()]"
   ]
  },
  {
   "cell_type": "markdown",
   "id": "387ef24b",
   "metadata": {},
   "source": [
    "# The `.str` accessor\n",
    "\n",
    "If you want to run string methods on every element in a series, you can do so with `.str` and then the method name. What methods are available?\n",
    "\n",
    "- All Python string methods\n",
    "- Many Python operations, implemented as methods\n",
    "    - `.str.contains` implements `in`\n",
    "    - `.str.get` implements `[]`\n",
    "- A few other methods that are just useful, often taken from the R language    "
   ]
  },
  {
   "cell_type": "markdown",
   "id": "2f47a467",
   "metadata": {},
   "source": [
    "# Exercise: Shorter than average strings\n",
    "\n",
    "1. Ask the user to enter a sentence.\n",
    "2. Turn the sentence into a series.\n",
    "3. Find all of the words in the sentence that are shorter than average, and print them."
   ]
  },
  {
   "cell_type": "code",
   "execution_count": 10,
   "id": "5ec2d8db",
   "metadata": {},
   "outputs": [
    {
     "name": "stdout",
     "output_type": "stream",
     "text": [
      "Enter a string: asdfasfdafasf\n"
     ]
    }
   ],
   "source": [
    "# you can get user input with the \"input\" function\n",
    "\n",
    "s = input('Enter a string: ').strip()  # strip removes leading/trailing whitespace from the string"
   ]
  },
  {
   "cell_type": "code",
   "execution_count": 11,
   "id": "40fa3c8c",
   "metadata": {},
   "outputs": [
    {
     "data": {
      "text/plain": [
       "'asdfasfdafasf'"
      ]
     },
     "execution_count": 11,
     "metadata": {},
     "output_type": "execute_result"
    }
   ],
   "source": [
    "s"
   ]
  },
  {
   "cell_type": "code",
   "execution_count": null,
   "id": "946b2ca5",
   "metadata": {},
   "outputs": [],
   "source": []
  }
 ],
 "metadata": {
  "kernelspec": {
   "display_name": "Python 3 (ipykernel)",
   "language": "python",
   "name": "python3"
  },
  "language_info": {
   "codemirror_mode": {
    "name": "ipython",
    "version": 3
   },
   "file_extension": ".py",
   "mimetype": "text/x-python",
   "name": "python",
   "nbconvert_exporter": "python",
   "pygments_lexer": "ipython3",
   "version": "3.11.3"
  }
 },
 "nbformat": 4,
 "nbformat_minor": 5
}
