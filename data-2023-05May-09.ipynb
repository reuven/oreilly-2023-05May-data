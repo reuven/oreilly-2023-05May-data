{
 "cells": [
  {
   "cell_type": "markdown",
   "metadata": {},
   "source": [
    "# Agenda\n",
    "\n",
    "1. Getting started\n",
    "    - What is data analysis?\n",
    "    - Python and Pandas\n",
    "    - Descriptive statistics and aggregate methods\n",
    "    - Setting and retrieving values\n",
    "    - Broadcasting operations\n",
    "    - Mask arrays\n",
    "    - Indexes\n",
    "    - Some additional useful methods\n",
    "2. Data types and data frames\n",
    "    - Data types and `NaN` (\"not a number\")\n",
    "    - Data frames (2D data)\n",
    "    - Adding and removing data\n",
    "    - Retrieving data\n",
    "    - Queries with mask indexes \n",
    "3. Real-world data\n",
    "    - Working with CSV files\n",
    "    - Sorting data\n",
    "    - Grouping data\n",
    "    - Pivot tables\n",
    "    - Joining\n",
    "4. Text and dates\n",
    "    - Working "
   ]
  },
  {
   "cell_type": "code",
   "execution_count": null,
   "metadata": {},
   "outputs": [],
   "source": []
  }
 ],
 "metadata": {
  "kernelspec": {
   "display_name": "Python 3 (ipykernel)",
   "language": "python",
   "name": "python3"
  },
  "language_info": {
   "codemirror_mode": {
    "name": "ipython",
    "version": 3
   },
   "file_extension": ".py",
   "mimetype": "text/x-python",
   "name": "python",
   "nbconvert_exporter": "python",
   "pygments_lexer": "ipython3",
   "version": "3.11.3"
  }
 },
 "nbformat": 4,
 "nbformat_minor": 4
}
