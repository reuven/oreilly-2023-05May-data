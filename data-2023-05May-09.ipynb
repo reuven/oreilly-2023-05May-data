{
 "cells": [
  {
   "cell_type": "markdown",
   "metadata": {},
   "source": [
    "# Agenda\n",
    "\n",
    "1. Getting started\n",
    "    - What is data analysis?\n",
    "    - Python and Pandas\n",
    "    - Descriptive statistics and aggregate methods\n",
    "    - Setting and retrieving values\n",
    "    - Broadcasting operations\n",
    "    - Mask arrays\n",
    "    - Indexes\n",
    "    - Some additional useful methods\n",
    "2. Data types and data frames\n",
    "    - Data types and `NaN` (\"not a number\")\n",
    "    - Data frames (2D data)\n",
    "    - Adding and removing data\n",
    "    - Retrieving data\n",
    "    - Queries with mask indexes \n",
    "3. Real-world data\n",
    "    - Working with CSV files\n",
    "    - Sorting data\n",
    "    - Grouping data\n",
    "    - Pivot tables\n",
    "    - Joining\n",
    "4. Text and dates\n",
    "    - Working with text data\n",
    "    - Working with dates and times\n",
    "    - Time series (where datetime values are our index)\n",
    "5. Visualization\n",
    "    - Plots via the Pandas interface\n",
    "    - Scatter plots\n",
    "    - What next?"
   ]
  },
  {
   "cell_type": "markdown",
   "metadata": {},
   "source": [
    "# I'm using Jupyter\n",
    "\n",
    "You can install Jupyter on your own computer if you have Python and Pandas -- just install it from PyPI. \n",
    "\n",
    "    pip install jupyter\n",
    "    \n",
    "If you don't have Jupyter on your computer, then you use one of the online systems, such as Google Colab or Python Anywhere or Replit.  Or https://try.jupyter.org."
   ]
  },
  {
   "cell_type": "markdown",
   "metadata": {},
   "source": [
    "# Jupyter intro\n",
    "\n",
    "Jupyter is divided into \"cells,\" like the one I'm typing into right now. Cells can be in one of two modes at any time:\n",
    "\n",
    "- Edit mode: When you type into it, the text appears (like right now). It has a green outline. Enter edit mode by clicking inside of the cell, or by pressing ENTER.\n",
    "- Command mode: When you type, you're giving commands to the Jupyter notebook itself. It has a blue outline. Enter command mode by clicking to the left of the cell or by pressing ESC.\n",
    "\n",
    "In command mode, you can type a bunch of keys and get Jupyter to do things:\n",
    "\n",
    "- `h` -- help\n",
    "- `c` -- copy the current cell\n",
    "- `v` -- paste the current cell\n",
    "- `x` -- cut the current cell\n",
    "- `z` -- undo the last action\n",
    "- `a` -- create a new cell *above* the current one\n",
    "- `b` -- create a new cell *below* the current one\n"
   ]
  },
  {
   "cell_type": "markdown",
   "metadata": {},
   "source": [
    "# What is data? What is data analytics?\n",
    "\n",
    "Data is everywhere in our world -- cellphones, computers, servers, vehicles, refrigerators.\n",
    "\n"
   ]
  }
 ],
 "metadata": {
  "kernelspec": {
   "display_name": "Python 3 (ipykernel)",
   "language": "python",
   "name": "python3"
  },
  "language_info": {
   "codemirror_mode": {
    "name": "ipython",
    "version": 3
   },
   "file_extension": ".py",
   "mimetype": "text/x-python",
   "name": "python",
   "nbconvert_exporter": "python",
   "pygments_lexer": "ipython3",
   "version": "3.11.3"
  }
 },
 "nbformat": 4,
 "nbformat_minor": 4
}
