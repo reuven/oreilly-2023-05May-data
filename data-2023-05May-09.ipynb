{
 "cells": [
  {
   "cell_type": "markdown",
   "metadata": {},
   "source": [
    "# Agenda\n",
    "\n",
    "1. Getting started\n",
    "    - What is data analysis?\n",
    "    - Python and Pandas\n",
    "    - Descriptive statistics and aggregate methods\n",
    "    - Setting and retrieving values\n",
    "    - Broadcasting operations\n",
    "    - Mask arrays\n",
    "    - Indexes\n",
    "    - Some additional useful methods\n",
    "2. Data types and data frames\n",
    "    - Data types and `NaN` (\"not a number\")\n",
    "    - Data frames (2D data)\n",
    "    - Adding and removing data\n",
    "    - Retrieving data\n",
    "    - Queries with mask indexes \n",
    "3. Real-world data\n",
    "    - Working with CSV files\n",
    "    - Sorting data\n",
    "    - Grouping data\n",
    "    - Pivot tables\n",
    "    - Joining\n",
    "4. Text and dates\n",
    "    - Working with text data\n",
    "    - Working with dates and times\n",
    "    - Time series (where datetime values are our index)\n",
    "5. Visualization\n",
    "    - Plots via the Pandas interface\n",
    "    - Scatter plots\n",
    "    - What next?"
   ]
  },
  {
   "cell_type": "markdown",
   "metadata": {},
   "source": [
    "# I'm using Jupyter\n",
    "\n",
    "You can install Jupyter on your own computer if you have Python and Pandas -- just install it from PyPI. \n",
    "\n",
    "    pip install jupyter\n",
    "    \n",
    "If you don't have Jupyter on your computer, then you use one of the online systems, such as Google Colab or Python Anywhere or Replit.  Or https://try.jupyter.org."
   ]
  },
  {
   "cell_type": "markdown",
   "metadata": {},
   "source": [
    "# Jupyter intro\n",
    "\n",
    "Jupyter is divided into \"cells,\" like the one I'm typing into right now. Cells can be in one of two modes at any time:\n",
    "\n",
    "- Edit mode: When you type into it, the text appears (like right now). It has a green outline. Enter edit mode by clicking inside of the cell, or by pressing ENTER.\n",
    "- Command mode: When you type, you're giving commands to the Jupyter notebook itself. It has a blue outline. Enter command mode by clicking to the left of the cell or by pressing ESC.\n",
    "\n",
    "In command mode, you can type a bunch of keys and get Jupyter to do things:\n",
    "\n",
    "- `h` -- help\n",
    "- `c` -- copy the current cell\n",
    "- `v` -- paste the current cell\n",
    "- `x` -- cut the current cell\n",
    "- `z` -- undo the last action\n",
    "- `a` -- create a new cell *above* the current one\n",
    "- `b` -- create a new cell *below* the current one\n"
   ]
  },
  {
   "cell_type": "markdown",
   "metadata": {},
   "source": [
    "# What is data? What is data analytics?\n",
    "\n",
    "Data is everywhere in our world -- cellphones, computers, servers, vehicles, refrigerators.\n",
    "\n",
    "How do we work with it? How can we use it to answer questions that are useful and/or interesting?\n",
    "\n",
    "I say: Data science = data analytics + machine learning."
   ]
  },
  {
   "cell_type": "markdown",
   "metadata": {},
   "source": [
    "# (Thought) Exercise: Amazon's data\n",
    "\n",
    "1. What sort of data does Amazon have?\n",
    "2. What sorts of questions can Amazon ask of that data?\n",
    "3. What sorts of things can Amazon do once they have answers to those questions?"
   ]
  },
  {
   "cell_type": "markdown",
   "metadata": {},
   "source": [
    "# We have data. How can we analyze it?\n",
    "\n",
    "There are many tools: SQL databases. NoSQL databases. Programming languages like R or Julia. Or even Java or C#.\n",
    "\n",
    "Python has become the #1 language for data science over the last decade. That seems really weird!\n",
    "\n",
    "- Python is not super efficient\n",
    "- Python's numbers are not small\n",
    "\n",
    "How did this happen? Answer: NumPy. NumPy is a library written in C, and thus runs at C speeds, *but* it has an interface in Python that lets us use it in Python.\n",
    "\n",
    "We get the benefits of Python's ease of use, but C's efficiency.\n",
    "\n",
    "NumPy is a bit low level for many people to work with. Pandas is (mostly) a wrapper around NumPy that makes it easier to work with, and feels like a higher-level system.\n",
    "\n",
    "Pandas is a Python package (on PyPI), and is the main way that people analyze data in the Python world nowadays."
   ]
  },
  {
   "cell_type": "code",
   "execution_count": 2,
   "metadata": {},
   "outputs": [],
   "source": [
    "# I can load Pandas into memory by saying\n",
    "\n",
    "import pandas as pd      # import it, and assign it the alias \"pd\"\n",
    "from pandas import Series, DataFrame   # these are useful shortcuts, so we don't have to say pd.Series / pd.DataFrame"
   ]
  },
  {
   "cell_type": "code",
   "execution_count": 3,
   "metadata": {},
   "outputs": [],
   "source": [
    "# series\n",
    "\n",
    "# a series is a Pandas data structure containing 1D data\n",
    "# it's kind of, sort of, like a list  -- but it isn't one\n",
    "\n",
    "s = Series([10, 20, 30, 40, 50])  # creating a series with a Python list"
   ]
  },
  {
   "cell_type": "code",
   "execution_count": 4,
   "metadata": {},
   "outputs": [
    {
     "data": {
      "text/plain": [
       "pandas.core.series.Series"
      ]
     },
     "execution_count": 4,
     "metadata": {},
     "output_type": "execute_result"
    }
   ],
   "source": [
    "type(s)"
   ]
  },
  {
   "cell_type": "code",
   "execution_count": 5,
   "metadata": {},
   "outputs": [
    {
     "data": {
      "text/plain": [
       "0    10\n",
       "1    20\n",
       "2    30\n",
       "3    40\n",
       "4    50\n",
       "dtype: int64"
      ]
     },
     "execution_count": 5,
     "metadata": {},
     "output_type": "execute_result"
    }
   ],
   "source": [
    "s   # show me the series"
   ]
  },
  {
   "cell_type": "markdown",
   "metadata": {},
   "source": [
    "# What are we seeing?\n",
    "\n",
    "1. The series contains two parallel set of elements:\n",
    "    - The index, which currently contains integers 0-4\n",
    "    - The values, which currently contains the integers 10, 20, 30, 40, and 50\n",
    "    "
   ]
  }
 ],
 "metadata": {
  "kernelspec": {
   "display_name": "Python 3 (ipykernel)",
   "language": "python",
   "name": "python3"
  },
  "language_info": {
   "codemirror_mode": {
    "name": "ipython",
    "version": 3
   },
   "file_extension": ".py",
   "mimetype": "text/x-python",
   "name": "python",
   "nbconvert_exporter": "python",
   "pygments_lexer": "ipython3",
   "version": "3.11.3"
  }
 },
 "nbformat": 4,
 "nbformat_minor": 4
}
